{
 "cells": [
  {
   "cell_type": "markdown",
   "id": "desperate-olympus",
   "metadata": {},
   "source": [
    "## refer : https://da2so.github.io/2020-12-24-Master_TFlite2/"
   ]
  },
  {
   "cell_type": "code",
   "execution_count": 1,
   "id": "desperate-special",
   "metadata": {},
   "outputs": [],
   "source": [
    "import tensorflow as tf"
   ]
  },
  {
   "cell_type": "code",
   "execution_count": 2,
   "id": "acoustic-purple",
   "metadata": {},
   "outputs": [],
   "source": [
    "model_path = './result.tflite'"
   ]
  },
  {
   "cell_type": "code",
   "execution_count": 3,
   "id": "hungry-poetry",
   "metadata": {},
   "outputs": [],
   "source": [
    "interpreter = tf.lite.Interpreter(model_path=model_path)"
   ]
  },
  {
   "cell_type": "code",
   "execution_count": 4,
   "id": "dynamic-promotion",
   "metadata": {},
   "outputs": [
    {
     "data": {
      "text/plain": [
       "<tensorflow.lite.python.interpreter.Interpreter at 0x7f531dcc88>"
      ]
     },
     "execution_count": 4,
     "metadata": {},
     "output_type": "execute_result"
    }
   ],
   "source": [
    "interpreter"
   ]
  },
  {
   "cell_type": "code",
   "execution_count": null,
   "id": "expressed-stick",
   "metadata": {},
   "outputs": [],
   "source": []
  }
 ],
 "metadata": {
  "kernelspec": {
   "display_name": "Python 3",
   "language": "python",
   "name": "python3"
  },
  "language_info": {
   "codemirror_mode": {
    "name": "ipython",
    "version": 3
   },
   "file_extension": ".py",
   "mimetype": "text/x-python",
   "name": "python",
   "nbconvert_exporter": "python",
   "pygments_lexer": "ipython3",
   "version": "3.6.9"
  }
 },
 "nbformat": 4,
 "nbformat_minor": 5
}
