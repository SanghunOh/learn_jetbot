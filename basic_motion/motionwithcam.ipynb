{
 "cells": [
  {
   "cell_type": "code",
   "execution_count": 1,
   "metadata": {},
   "outputs": [],
   "source": [
    "from jetbot import Robot"
   ]
  },
  {
   "cell_type": "code",
   "execution_count": 2,
   "metadata": {},
   "outputs": [],
   "source": [
    "robot = Robot()"
   ]
  },
  {
   "cell_type": "markdown",
   "metadata": {},
   "source": [
    "### Commanding the robot"
   ]
  },
  {
   "cell_type": "code",
   "execution_count": 3,
   "metadata": {},
   "outputs": [],
   "source": [
    "import time"
   ]
  },
  {
   "cell_type": "code",
   "execution_count": 4,
   "metadata": {},
   "outputs": [],
   "source": [
    "import ipywidgets.widgets as widgets\n",
    "from IPython.display import display\n",
    "# camera.stop()"
   ]
  },
  {
   "cell_type": "code",
   "execution_count": 5,
   "metadata": {},
   "outputs": [],
   "source": [
    "import traitlets\n",
    "from jetbot import Camera, bgr8_to_jpeg\n",
    "\n",
    "width, height = 180, 180\n",
    "camera = Camera.instance(width=width, height=height)\n",
    "\n",
    "image = widgets.Image(format='jpeg', width=width, height=height)  # this width and height doesn't necessarily have to match the camera\n",
    "\n",
    "camera_link = traitlets.dlink((camera, 'value'), (image, 'value'), transform=bgr8_to_jpeg)\n",
    "\n",
    "# display(image)"
   ]
  },
  {
   "cell_type": "markdown",
   "metadata": {},
   "source": [
    "### Attach functions to events"
   ]
  },
  {
   "cell_type": "code",
   "execution_count": 6,
   "metadata": {},
   "outputs": [
    {
     "data": {
      "application/vnd.jupyter.widget-view+json": {
       "model_id": "faa2ac799c3d47d0ad51df4ce39ffbd1",
       "version_major": 2,
       "version_minor": 0
      },
      "text/plain": [
       "Image(value=b'\\xff\\xd8\\xff\\xe0\\x00\\x10JFIF\\x00\\x01\\x01\\x00\\x00\\x01\\x00\\x01\\x00\\x00\\xff\\xdb\\x00C\\x00\\x02\\x01\\x0…"
      ]
     },
     "metadata": {},
     "output_type": "display_data"
    },
    {
     "data": {
      "application/vnd.jupyter.widget-view+json": {
       "model_id": "9cccd95ea85042f59dab649ba5e259b5",
       "version_major": 2,
       "version_minor": 0
      },
      "text/plain": [
       "VBox(children=(HBox(children=(Button(description='turn_left', layout=Layout(align_self='center', height='80px'…"
      ]
     },
     "metadata": {},
     "output_type": "display_data"
    }
   ],
   "source": [
    "# create buttons\n",
    "button_layout = widgets.Layout(width='70px', height='80px', align_self='center')\n",
    "stop_button = widgets.Button(description='stop', button_style='danger', layout=button_layout)\n",
    "forward_button = widgets.Button(description='forward', layout=button_layout)\n",
    "backward_button = widgets.Button(description='backward', layout=button_layout)\n",
    "left_button = widgets.Button(description='left', layout=button_layout)\n",
    "right_button = widgets.Button(description='right', layout=button_layout)\n",
    "turn_left_button = widgets.Button(description='turn_left', layout=button_layout)\n",
    "turn_right_button = widgets.Button(description='turn_right', layout=button_layout)\n",
    "turn_back_button = widgets.Button(description='turn back', layout=button_layout)\n",
    "speedup_button = widgets.Button(description='speed up', layout=button_layout)\n",
    "\n",
    "# display buttons\n",
    "top_box = widgets.HBox([turn_left_button, forward_button, turn_right_button], layout=widgets.Layout(align_self='center'))\n",
    "middle_box = widgets.HBox([left_button, stop_button, right_button], layout=widgets.Layout(align_self='center'))\n",
    "bottom_box = widgets.HBox([turn_back_button, backward_button, speedup_button], layout=widgets.Layout(align_self='center'))\n",
    "controls_box = widgets.VBox([top_box, middle_box, bottom_box])\n",
    "display(image)\n",
    "display(controls_box)"
   ]
  },
  {
   "cell_type": "code",
   "execution_count": 7,
   "metadata": {},
   "outputs": [],
   "source": [
    "robot.left_motor.alpha = 0.95\t\t\t\t\t# 0.60 이하 움직이지 않음\n",
    "robot.right_motor.alpha = 0.96\n",
    "\n",
    "motor_speed = 0.2\n",
    "motor_slow_speed = 0.1\n",
    "motor_speedup = 0.9\n",
    "\n",
    "def stop(change):\n",
    "#     time.sleep(0.5)\n",
    "    robot.stop()\n",
    "    \n",
    "def step_forward(change):\n",
    "    robot.stop()\n",
    "    robot.forward(motor_speed)\n",
    "\n",
    "def step_backward(change):\n",
    "    robot.stop()\n",
    "    robot.backward(motor_speed)\n",
    "\n",
    "def step_left(change):\n",
    "    turn_left(change)\n",
    "    step_forward(change)\n",
    "    \n",
    "def step_right(change):\n",
    "    turn_right(change)\n",
    "    step_forward(change)    \n",
    "    \n",
    "def turn_left(change):\n",
    "    robot.stop()\n",
    "    robot.left(motor_slow_speed)\n",
    "    time.sleep(0.6)\n",
    "    robot.stop()\n",
    "\n",
    "def turn_right(change):\n",
    "    robot.stop()\n",
    "    robot.right(motor_slow_speed)\n",
    "    time.sleep(0.6)\n",
    "    robot.stop()\n",
    "\n",
    "def turn_back(change):\n",
    "    robot.stop()\n",
    "    robot.right(motor_slow_speed)\n",
    "    time.sleep(2.1)\n",
    "    robot.stop()\n",
    "\n",
    "def step_speedup(change):\n",
    "    robot.stop()\n",
    "    robot.forward(motor_speedup)\n",
    "    time.sleep(1)\n",
    "    step_forward(change)\n"
   ]
  },
  {
   "cell_type": "code",
   "execution_count": 8,
   "metadata": {},
   "outputs": [],
   "source": [
    "# link buttons to actions\n",
    "stop_button.on_click(stop)\n",
    "forward_button.on_click(step_forward)\n",
    "backward_button.on_click(step_backward)\n",
    "left_button.on_click(step_left)\n",
    "right_button.on_click(step_right)\n",
    "\n",
    "turn_left_button.on_click(turn_left)\n",
    "turn_right_button.on_click(turn_right)\n",
    "turn_back_button.on_click(turn_back)\n",
    "speedup_button.on_click(step_speedup)"
   ]
  },
  {
   "cell_type": "code",
   "execution_count": 11,
   "metadata": {},
   "outputs": [],
   "source": [
    "# camera.stop()"
   ]
  },
  {
   "cell_type": "code",
   "execution_count": null,
   "metadata": {},
   "outputs": [],
   "source": []
  }
 ],
 "metadata": {
  "kernelspec": {
   "display_name": "Python 3",
   "language": "python",
   "name": "python3"
  },
  "language_info": {
   "codemirror_mode": {
    "name": "ipython",
    "version": 3
   },
   "file_extension": ".py",
   "mimetype": "text/x-python",
   "name": "python",
   "nbconvert_exporter": "python",
   "pygments_lexer": "ipython3",
   "version": "3.6.9"
  }
 },
 "nbformat": 4,
 "nbformat_minor": 4
}
